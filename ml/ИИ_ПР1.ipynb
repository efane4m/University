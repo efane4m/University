{
  "cells": [
    {
      "cell_type": "markdown",
      "source": [
        "**1.1. Теоретический материал – Типы данных**\n",
        "\n",
        "   **Типы данных**\n",
        "\n",
        "   Все типы данных в Python относятся к одной из 2-х категорий:\n",
        "изменяемые (mutable) и неизменяемые (immutable).\n",
        "\n",
        "   Неизменяемые объекты:\n",
        "\n",
        "   - числовые данные (int, float),\n",
        "\n",
        "   - bool,\n",
        "   \n",
        "   - None,\n",
        "   \n",
        "   - символьные строки (class 'str'),\n",
        "   \n",
        "   - кортежи (tuple).\n",
        "   \n",
        "Изменяемые объекты:\n",
        "   \n",
        "   - списки (list),\n",
        "   \n",
        "   - множества (set),\n",
        "   \n",
        "   - словари (dict)."
      ],
      "metadata": {
        "id": "9zATfh9uzElY"
      }
    },
    {
      "cell_type": "markdown",
      "source": [
        "**1.2.Пример** \n",
        "\n",
        "**Задача:**\n",
        "\n",
        "Выведите на печать и определите тип переменной."
      ],
      "metadata": {
        "id": "tQh1_O0tUPMa"
      }
    },
    {
      "cell_type": "code",
      "source": [
        "x = 3+5.2*7\n",
        "y = None\n",
        "z = 'a', 5, 12.345, (2, 'b')\n",
        "df = [['Антонова Антонина', 34, 'ж'],['Борисов Борис', 26, 'м']]\n",
        "A = {1, 'title', 2, 'content'}\n",
        "print(x, '|', type(x), '\\n', y, '|', type(y), '\\n', z, '|', type(z), '\\n', df,\n",
        "      '|', type(df), '\\n', A, '|', type(A))"
      ],
      "metadata": {
        "id": "AjUoAvC8Unl5",
        "outputId": "2a4f739a-24e2-40b2-d5ca-48e002942644",
        "colab": {
          "base_uri": "https://localhost:8080/"
        }
      },
      "execution_count": null,
      "outputs": [
        {
          "output_type": "stream",
          "name": "stdout",
          "text": [
            "39.4 | <class 'float'> \n",
            " None | <class 'NoneType'> \n",
            " ('a', 5, 12.345, (2, 'b')) | <class 'tuple'> \n",
            " [['Антонова Антонина', 34, 'ж'], ['Борисов Борис', 26, 'м']] | <class 'list'> \n",
            " {'title', 1, 2, 'content'} | <class 'set'>\n"
          ]
        }
      ]
    },
    {
      "cell_type": "markdown",
      "source": [],
      "metadata": {
        "id": "PFyPjYB_Vssc"
      }
    },
    {
      "cell_type": "markdown",
      "source": [
        "**1.3. Задание**\n",
        "\n",
        "**Задача:**\n",
        "\n",
        "Выведите на печать и определите тип переменной.\n"
      ],
      "metadata": {
        "id": "H6Y9lfkPV4HZ"
      }
    },
    {
      "cell_type": "code",
      "source": [
        "x = 5 >= 2\n",
        "A = {1, 3, 7, 8}\n",
        "B = {2, 4, 5, 10, 'apple'}\n",
        "C = A & B\n",
        "df = 'Антонова Антонина', 34, 'ж'\n",
        "z = 'type'\n",
        "D = [1, 'title', 2, 'content']\n",
        "print(x, '|', type(x), '\\n', A, '|', type(A), '\\n', B, '|', type(B), '\\n',\n",
        "      C, '|', type(C), '\\n', df, '|', type(df), '\\n', z, '|', type(z), '\\n',\n",
        "      D, '|', type(D), '\\n', )"
      ],
      "metadata": {
        "id": "BsxMJnuvWFtl",
        "outputId": "5fb6baf8-0edf-4be0-9a20-d677fd2e6bd6",
        "colab": {
          "base_uri": "https://localhost:8080/"
        }
      },
      "execution_count": null,
      "outputs": [
        {
          "output_type": "stream",
          "name": "stdout",
          "text": [
            "True | <class 'bool'> \n",
            " {8, 1, 3, 7} | <class 'set'> \n",
            " {2, 4, 5, 'apple', 10} | <class 'set'> \n",
            " set() | <class 'set'> \n",
            " ('Антонова Антонина', 34, 'ж') | <class 'tuple'> \n",
            " type | <class 'str'> \n",
            " [1, 'title', 2, 'content'] | <class 'list'> \n",
            "\n"
          ]
        }
      ]
    },
    {
      "cell_type": "markdown",
      "source": [
        "**2.1. Теоретический материал – Условный оператор**\n",
        "\n",
        "**If – Условный оператор**\n",
        "\n",
        "В коде часто приходится проверять выполнимость или \n",
        "невыполнимость каких-то условий. Синтаксис:\n",
        "\n",
        "if <условие1 (булевское выражение)> :\n",
        "\n",
        " <код, который выполнится, если условие верно>\n",
        "\n",
        "elif <условие2 (булевское выражение)>:\n",
        "\n",
        " <код, который выполнится, если условие1 было неверно, а\n",
        "условие2 верно>\n",
        "\n",
        "else:\n",
        "\n",
        " <код, который выполнится, если условие1 и условие2 были\n",
        "неверны>\n",
        "\n",
        "Обратите внимание, что код, который должен выполняться внутри \n",
        "каждого условия, записывается с отступом в 4 пробела от уровня if, elif и \n",
        "else: в питоне области видимости переменных обозначаются отступами.\n",
        "\n",
        "**То есть, отступы позволяют понять, где начинается код, \n",
        "который должен выполняться при выполнении условия в if, и где \n",
        "заканчивается.**"
      ],
      "metadata": {
        "id": "ERE2UYCrWN_k"
      }
    },
    {
      "cell_type": "markdown",
      "source": [
        "**2.2. Пример**\n",
        "\n",
        "**Задача:**\n",
        "\n",
        "Вывести на экран является ли переменная х положительной, \n",
        "отрицательной или равна нулю.\n"
      ],
      "metadata": {
        "id": "uCDbRsekXQKQ"
      }
    },
    {
      "cell_type": "code",
      "source": [
        "x = 125\n",
        "if x<0:\n",
        "  print(\"х отрицательный\")\n",
        "elif x==0:\n",
        "  print(\"x равен нулю\")\n",
        "else:\n",
        "  print(\"x положительный\")"
      ],
      "metadata": {
        "id": "9MjkEEGtXZy9",
        "outputId": "8a5e5c7d-8ddc-4b93-ccd8-cabc1524aa64",
        "colab": {
          "base_uri": "https://localhost:8080/"
        }
      },
      "execution_count": null,
      "outputs": [
        {
          "output_type": "stream",
          "name": "stdout",
          "text": [
            "x положительный\n"
          ]
        }
      ]
    },
    {
      "cell_type": "markdown",
      "source": [
        "**2.3. Задание**\n",
        "\n",
        "**Задача:**\n",
        "\n",
        "Напишите код. Задается х, напечатать какому из интервалов \n",
        "принадлежит: (-infinity, -5), [-5, 5] или от (5, +infinity)"
      ],
      "metadata": {
        "id": "gUtokMoWXxsR"
      }
    },
    {
      "cell_type": "code",
      "source": [
        "x = 125\n",
        "if x < -5:\n",
        "    print('x принадлежит интервалу (-infinity, -5)')\n",
        "elif (x >= -5 and x <= 5):\n",
        "    print('x принадлежит интервалу [-5, 5]')\n",
        "else:\n",
        "    print('x принадлежит интервалу (5, +infinity)')"
      ],
      "metadata": {
        "id": "FMzFr4A1X_Hq",
        "outputId": "5de8fdae-1b06-4fb4-e5e7-1dd7798e3beb",
        "colab": {
          "base_uri": "https://localhost:8080/"
        }
      },
      "execution_count": null,
      "outputs": [
        {
          "output_type": "stream",
          "name": "stdout",
          "text": [
            "x принадлежит интервалу (5, +infinity)\n"
          ]
        }
      ]
    },
    {
      "cell_type": "markdown",
      "source": [
        "**3.1. Теоретический материал – Циклы, массивы, срезы**\n",
        "\n",
        "**Циклы - for и while**\n",
        "\n",
        "Цикл while проверяет истинность условия, и если условие истинно, то \n",
        "выполняет инструкции цикла.\n",
        "\n",
        "Синтаксис:\n",
        "\n",
        "while условие:\n",
        "\n",
        " инструкции\n",
        "\n",
        "Инструкции, которые относятся к циклу while, располагаются на \n",
        "последующих строках и должны иметь отступ от начала ключевого слова \n",
        "while.\n",
        "\n",
        "Цикл for проходит по набору значений, помещает каждое значение в \n",
        "переменную с которой в цикле можно производить различные действия.\n",
        "\n",
        "Синтаксис:\n",
        "\n",
        "for переменная in набор_значений:\n",
        "\n",
        " инструкции\n",
        "\n",
        "После ключевого слова for идет название переменной, в которую \n",
        "будут помещаться значения. После оператора in указывается набор значений \n",
        "и двоеточие. Инструкции, которые относятся к циклу, располагаются на \n",
        "последующих строках и должны иметь отступ.\n",
        "\n",
        "При создании цикла удобно пользоваться функцией range(a, b), \n",
        "которая создает последовательность чисел от a до b-1."
      ],
      "metadata": {
        "id": "ZFwxOuNRYIKg"
      }
    },
    {
      "cell_type": "markdown",
      "source": [
        "**3.2.1. Пример**\n",
        "\n",
        "**Задача:**\n",
        "\n",
        "Вывести все числа от 1 до 10 с шагом 3."
      ],
      "metadata": {
        "id": "WYZG7BZGKIe_"
      }
    },
    {
      "cell_type": "code",
      "source": [
        "x = 1\n",
        "while x <= 10:\n",
        "  print(x)\n",
        "  x += 3"
      ],
      "metadata": {
        "colab": {
          "base_uri": "https://localhost:8080/"
        },
        "id": "MWnHxNAZKURT",
        "outputId": "d041168a-d95c-4c1a-b801-6009e16cc32a"
      },
      "execution_count": null,
      "outputs": [
        {
          "output_type": "stream",
          "name": "stdout",
          "text": [
            "1\n",
            "4\n",
            "7\n",
            "10\n"
          ]
        }
      ]
    },
    {
      "cell_type": "markdown",
      "source": [
        "**3.2.2. Пример**\n",
        "\n",
        "**Задача:**\n",
        "\n",
        "Задан список. Напечатать все элементы списка."
      ],
      "metadata": {
        "id": "W1KSL4cJKg1q"
      }
    },
    {
      "cell_type": "code",
      "source": [
        "models = ['KNN', 'decision tree', 'linear model']\n",
        "for model in models:\n",
        "  print(model)"
      ],
      "metadata": {
        "colab": {
          "base_uri": "https://localhost:8080/"
        },
        "id": "DMS-XecVKsDE",
        "outputId": "f705e654-99ae-45b1-bdc2-151c7ba7138f"
      },
      "execution_count": null,
      "outputs": [
        {
          "output_type": "stream",
          "name": "stdout",
          "text": [
            "KNN\n",
            "decision tree\n",
            "linear model\n"
          ]
        }
      ]
    },
    {
      "cell_type": "markdown",
      "source": [
        "**3.2.3. Пример**\n",
        "\n",
        "**Задача:**\n",
        "\n",
        "Создать список от 1 до 99 с шагом 7"
      ],
      "metadata": {
        "id": "1B9ZfGFhLGKM"
      }
    },
    {
      "cell_type": "code",
      "source": [
        "list_int = range(1, 100, 7)\n",
        "print(list(list_int))"
      ],
      "metadata": {
        "colab": {
          "base_uri": "https://localhost:8080/"
        },
        "id": "sYStrDtLLLdy",
        "outputId": "c9b99135-a9b3-434f-f21f-3299f601ee6a"
      },
      "execution_count": null,
      "outputs": [
        {
          "output_type": "stream",
          "name": "stdout",
          "text": [
            "[1, 8, 15, 22, 29, 36, 43, 50, 57, 64, 71, 78, 85, 92, 99]\n"
          ]
        }
      ]
    },
    {
      "cell_type": "markdown",
      "source": [
        "**3.2.4. Пример**\n",
        "\n",
        "**Задача:**\n",
        "\n",
        "Вывести на экран числа от 1 до 105 с шагом 25, используя функцию \n",
        "range()"
      ],
      "metadata": {
        "id": "8JFmpwbOLVb0"
      }
    },
    {
      "cell_type": "code",
      "source": [
        "for i in range(5, 106, 25):\n",
        "  print(i)"
      ],
      "metadata": {
        "colab": {
          "base_uri": "https://localhost:8080/"
        },
        "id": "zd9XpQexLdDm",
        "outputId": "827a72d7-8b8d-411f-cf78-f6293b16fc80"
      },
      "execution_count": null,
      "outputs": [
        {
          "output_type": "stream",
          "name": "stdout",
          "text": [
            "5\n",
            "30\n",
            "55\n",
            "80\n",
            "105\n"
          ]
        }
      ]
    },
    {
      "cell_type": "markdown",
      "source": [
        "**3.2.5. Пример**\n",
        "\n",
        "**Задача:**\n",
        "\n",
        "**Срез.** Необходимо получить каждый k-й элемент массива a, начиная с \n",
        "элемента с индексом i (включительно) и заканчивая элементом с \n",
        "индексом j (не включительно), c шагом 2. Или переставить все \n",
        "элементы в обратном порядке."
      ],
      "metadata": {
        "id": "m3oSxsyALmfr"
      }
    },
    {
      "cell_type": "code",
      "source": [
        "a = [1, 2, 3, 4, 5, 6, 7, 8, 9]\n",
        "b = a[1:7:2]\n",
        "c = a[::-1]\n",
        "print(b)\n",
        "print(c)"
      ],
      "metadata": {
        "colab": {
          "base_uri": "https://localhost:8080/"
        },
        "id": "Gpd-skfgLyO7",
        "outputId": "845c0cf8-d08d-4f5a-9cd9-83c9faf89be1"
      },
      "execution_count": null,
      "outputs": [
        {
          "output_type": "stream",
          "name": "stdout",
          "text": [
            "[2, 4, 6]\n",
            "[9, 8, 7, 6, 5, 4, 3, 2, 1]\n"
          ]
        }
      ]
    },
    {
      "cell_type": "markdown",
      "source": [
        "**3.3.1 Задание**\n",
        "\n",
        "**Задача:**\n",
        "\n",
        "Выведите числа из примера на while (3.2.1) в обратном порядке."
      ],
      "metadata": {
        "id": "0zfCakXtMG10"
      }
    },
    {
      "cell_type": "code",
      "source": [
        "x = 10\n",
        "while x >= 1:\n",
        "    print(x)\n",
        "    x -= 3"
      ],
      "metadata": {
        "colab": {
          "base_uri": "https://localhost:8080/"
        },
        "id": "iruBX__GMVcj",
        "outputId": "48acf94b-c0f4-4793-e384-8ae83e7ba8dc"
      },
      "execution_count": null,
      "outputs": [
        {
          "output_type": "stream",
          "name": "stdout",
          "text": [
            "10\n",
            "7\n",
            "4\n",
            "1\n"
          ]
        }
      ]
    },
    {
      "cell_type": "markdown",
      "source": [
        "**3.3.2 Задание**\n",
        "\n",
        "**Задача:**\n",
        "\n",
        "При решении задач машинного обучения часто в качестве объектов \n",
        "исследования выступает человек. Создайте список значимых \n",
        "характеристик (признаков), идентифицирующих человека. Выведите \n",
        "список на экран."
      ],
      "metadata": {
        "id": "4R6qSBRfMa3f"
      }
    },
    {
      "cell_type": "code",
      "source": [
        "A = ['Рост', 'Возраст', 'Вес', 'Пол', 'Цвет волос']\n",
        "for i in A:\n",
        "    print(i)"
      ],
      "metadata": {
        "colab": {
          "base_uri": "https://localhost:8080/"
        },
        "id": "5LTvs_dNMndT",
        "outputId": "fcb248d6-4c22-4662-a3a7-3112603c92e1"
      },
      "execution_count": null,
      "outputs": [
        {
          "output_type": "stream",
          "name": "stdout",
          "text": [
            "Рост\n",
            "Возраст\n",
            "Вес\n",
            "Пол\n",
            "Цвет волос\n"
          ]
        }
      ]
    },
    {
      "cell_type": "markdown",
      "source": [
        "**3.3.3 Задание**\n",
        "\n",
        "**Задача:**\n",
        "\n",
        "Создать список чисел от 2 до 15 с шагом 1."
      ],
      "metadata": {
        "id": "KfMQt0-CMsrE"
      }
    },
    {
      "cell_type": "code",
      "source": [
        "list_int = range(2, 16)\n",
        "print(list(list_int))"
      ],
      "metadata": {
        "colab": {
          "base_uri": "https://localhost:8080/"
        },
        "id": "oFRY5chxMzjf",
        "outputId": "59d49b37-b373-459a-f476-9cf7a3fcb10b"
      },
      "execution_count": null,
      "outputs": [
        {
          "output_type": "stream",
          "name": "stdout",
          "text": [
            "[2, 3, 4, 5, 6, 7, 8, 9, 10, 11, 12, 13, 14, 15]\n"
          ]
        }
      ]
    },
    {
      "cell_type": "markdown",
      "source": [
        "**3.3.4 Задание**\n",
        "\n",
        "**Задача:**\n",
        "\n",
        "Выведите числа из примера на for c функцией range() (3.2.4) в \n",
        "обратном порядке."
      ],
      "metadata": {
        "id": "EIty9IBfM5GW"
      }
    },
    {
      "cell_type": "code",
      "source": [
        "for i in range(105, 4, -25):\n",
        "    print(i)"
      ],
      "metadata": {
        "colab": {
          "base_uri": "https://localhost:8080/"
        },
        "id": "85LoeDdhNBg9",
        "outputId": "e7ad2d8f-fffd-4b18-a900-3f0c01978007"
      },
      "execution_count": null,
      "outputs": [
        {
          "output_type": "stream",
          "name": "stdout",
          "text": [
            "105\n",
            "80\n",
            "55\n",
            "30\n",
            "5\n"
          ]
        }
      ]
    },
    {
      "cell_type": "markdown",
      "source": [
        "**3.3.5 Задание**\n",
        "\n",
        "**Задача:**\n",
        "\n",
        "Срез. Напишите код, который все элементы массива x с четными \n",
        "индексами переставит в обратном порядке. Т.е. если x = [0, 1, 2, 3, 4, \n",
        "5, 6, 7, 8, 9], то код должен сформировать [8, 1, 6, 3, 4, 5, 2, 7, 0, 9]."
      ],
      "metadata": {
        "id": "n-Bpr9FaNH71"
      }
    },
    {
      "cell_type": "code",
      "source": [
        "x = [0, 1, 2, 3, 4, 5, 6, 7, 8, 9]\n",
        "x[0:: 2] = reversed(x[0:: 2])\n",
        "print(x)"
      ],
      "metadata": {
        "colab": {
          "base_uri": "https://localhost:8080/"
        },
        "id": "kmQd_2XQNPNR",
        "outputId": "a775e598-f9b7-422c-ac80-6d3fdb625be5"
      },
      "execution_count": null,
      "outputs": [
        {
          "output_type": "stream",
          "name": "stdout",
          "text": [
            "[8, 1, 6, 3, 4, 5, 2, 7, 0, 9]\n"
          ]
        }
      ]
    },
    {
      "cell_type": "markdown",
      "source": [
        "**4.1. Теоретический материал - Библиотеки**\n",
        "\n",
        "Машинное обучение опирается на фундаментальные понятия и законы \n",
        "математики и информатики. Библиотека математических функций (math) \n",
        "применяется при решении большинства прикладных задач анализа данных. \n",
        "Также, и некоторые другие библиотеки Python содержат математические \n",
        "функции (например, NumPy). Важную роль играет библиотека matplotlib, \n",
        "которая позволяет производить визуализацию расчетов в удобной для \n",
        "восприятия человеком форме: графики, диаграммы, гистограммы.\n",
        "\n",
        "Подключение библиотек – синтаксис: \n",
        "\n",
        "import math as m\n",
        "\n",
        "import numpy as np\n",
        "\n",
        "import matplotlib.pyplot as plt\n",
        "\n",
        "etc…\n",
        "\n",
        "Библиотеки в python содержат не только функции, позволяющие решать \n",
        "различные задачи, но и некоторые популярные константы, например число \n",
        "Эйлера."
      ],
      "metadata": {
        "id": "o-uIns6vNZZK"
      }
    },
    {
      "cell_type": "markdown",
      "source": [
        "**4.2.1 Пример**\n",
        "\n",
        "**Задача:**\n",
        "\n",
        "Рассчитать синус от е радиан и вывести результат на экран"
      ],
      "metadata": {
        "id": "0yabWDRYNqrX"
      }
    },
    {
      "cell_type": "code",
      "source": [
        "import math as m\n",
        "print(m.sin(m.e))"
      ],
      "metadata": {
        "colab": {
          "base_uri": "https://localhost:8080/"
        },
        "id": "_9lMHwiANvvZ",
        "outputId": "159374e1-3923-4eba-8889-8ebe124c58fc"
      },
      "execution_count": null,
      "outputs": [
        {
          "output_type": "stream",
          "name": "stdout",
          "text": [
            "0.41078129050290885\n"
          ]
        }
      ]
    },
    {
      "cell_type": "markdown",
      "source": [
        "**4.2.2 Пример**\n",
        "\n",
        "**Задача:**\n",
        "\n",
        "Для функции sin(𝑥𝑒\n",
        "cos(𝑥)\n",
        ") на интервале [0;10] с шагом 0,05 построить \n",
        "график функции, закрасить площадь под ним и вычислить значение \n",
        "этой площади.\n",
        "\n",
        "Для вычисления площади воспользуйте функции trapz(), вычисляющей \n",
        "интеграл по правилу трапеции. Для ее корректной работы необходимо \n",
        "подключить следующие библиотеки:\n",
        "from scipy.integrate import simps\n",
        "from numpy import trapz"
      ],
      "metadata": {
        "id": "Xvl5pEpuOEXG"
      }
    },
    {
      "cell_type": "code",
      "source": [
        "import numpy as np\n",
        "import matplotlib.pyplot as plt\n",
        "from scipy.integrate import simps\n",
        "from numpy import trapz\n",
        "x = np.arange(0.0, 10, 0.1)\n",
        "y = np.abs(np.sin(x*np.exp(np.cos(x))))\n",
        "plt.grid()\n",
        "plt.plot(x, y, c = \"r\")\n",
        "plt.fill_between(x, y)\n",
        "\n",
        "area = trapz(y)\n",
        "print(area)"
      ],
      "metadata": {
        "colab": {
          "base_uri": "https://localhost:8080/",
          "height": 283
        },
        "id": "q1DVm9vrOROn",
        "outputId": "6d73ac57-2ded-4027-9b78-4b58ac6504c6"
      },
      "execution_count": null,
      "outputs": [
        {
          "output_type": "stream",
          "name": "stdout",
          "text": [
            "73.50792907748662\n"
          ]
        },
        {
          "output_type": "display_data",
          "data": {
            "text/plain": [
              "<Figure size 432x288 with 1 Axes>"
            ],
            "image/png": "[encoded data removed]"
          },
          "metadata": {
            "needs_background": "light"
          }
        }
      ]
    },
    {
      "cell_type": "markdown",
      "source": [
        "**4.2.3 Пример**\n",
        "\n",
        "**Задача:**\n",
        "\n",
        "Дано некоторое распределение оценок в группе за экзамен. Нарисовать \n",
        "круговую и точечную диаграммы распределения."
      ],
      "metadata": {
        "id": "8FvVnvqHO48P"
      }
    },
    {
      "cell_type": "code",
      "source": [
        "from matplotlib import pyplot as plt\n",
        "import numpy as np\n",
        "\n",
        "marks = ['Неуд', 'Удовл', 'Хор', 'Отл']\n",
        "\n",
        "data = [3, 7, 8, 4]\n",
        "fig = plt.figure(figsize = (10, 7))\n",
        "plt.pie(data, labels = marks)\n",
        "plt.show()\n",
        "plt.grid()\n",
        "plt.scatter (marks,data)"
      ],
      "metadata": {
        "colab": {
          "base_uri": "https://localhost:8080/",
          "height": 677
        },
        "id": "vO1NSy1KPDOH",
        "outputId": "5eab8c2d-6b5a-4c56-ab2d-8006b2569b9d"
      },
      "execution_count": null,
      "outputs": [
        {
          "output_type": "display_data",
          "data": {
            "text/plain": [
              "<Figure size 720x504 with 1 Axes>"
            ],
            "image/png": "[encoded data removed]"
          },
          "metadata": {}
        },
        {
          "output_type": "execute_result",
          "data": {
            "text/plain": [
              "<matplotlib.collections.PathCollection at 0x7f154088a670>"
            ]
          },
          "metadata": {},
          "execution_count": 21
        },
        {
          "output_type": "display_data",
          "data": {
            "text/plain": [
              "<Figure size 432x288 with 1 Axes>"
            ],
            "image/png": "[encoded data removed]"
          },
          "metadata": {
            "needs_background": "light"
          }
        }
      ]
    },
    {
      "cell_type": "markdown",
      "source": [
        "**4.3.1 Задание**\n",
        "\n",
        "**Задача:**\n",
        "\n",
        "Задайте массив случайных значений из интервала(0; 1). \n",
        "\n",
        "Рассчитайте средние и медианные значения для массива, сравните \n",
        "результаты, какие выводы можно сделать о значениях? \n",
        "Постройте точечную диаграмму рассения полученного ряда."
      ],
      "metadata": {
        "id": "Guu3LxLPQdlZ"
      }
    },
    {
      "cell_type": "code",
      "source": [
        "from matplotlib import pyplot as plt\n",
        "import numpy as np\n",
        "from scipy.integrate import simps\n",
        "from numpy import trapz\n",
        "import random\n",
        "\n",
        "median_array = []\n",
        "n, m, sum = 1, 3, 0\n",
        "x = np.abs([random. random() for _ in range(m) for _ in range(n)])\n",
        "print(\"x\", x)\n",
        "median_array = sorted(x)\n",
        "print(\"Отсортированный массив\", median_array)\n",
        "\n",
        "if m % 2 == 0:\n",
        "  mediana = (median_array[m//2-1] + median_array[m//2])/2\n",
        "else:\n",
        "  mediana = median_array[m//2]\n",
        "print(\"Медиана\", mediana)\n",
        "\n",
        "for i in range(m):\n",
        "  sum += x[i]\n",
        "print(\"Среднее значение\", sum/m)\n",
        "if (sum/n) > mediana:\n",
        "  print(\"Среднее значение больше медианы\")\n",
        "elif mediana > (sum/n):\n",
        "  print(\"Медиана больше среднего значения\")\n",
        "else:\n",
        "  print(\"Медиана и среднее значение равны\")\n",
        "plt.grid()\n",
        "plt.scatter(median_array, median_array)"
      ],
      "metadata": {
        "id": "-fWB0CwnQr6a",
        "colab": {
          "base_uri": "https://localhost:8080/",
          "height": 374
        },
        "outputId": "0b5f8680-6426-4073-e45d-e340c3be84fa"
      },
      "execution_count": null,
      "outputs": [
        {
          "output_type": "stream",
          "name": "stdout",
          "text": [
            "x [0.18255988 0.16680241 0.90288562]\n",
            "Отсортированный массив [0.16680240680291203, 0.18255987870546253, 0.902885616280132]\n",
            "Медиана 0.18255987870546253\n",
            "Среднее значение 0.41741596726283553\n",
            "Среднее значение больше медианы\n"
          ]
        },
        {
          "output_type": "execute_result",
          "data": {
            "text/plain": [
              "<matplotlib.collections.PathCollection at 0x7f153f56ac10>"
            ]
          },
          "metadata": {},
          "execution_count": 69
        },
        {
          "output_type": "display_data",
          "data": {
            "text/plain": [
              "<Figure size 432x288 with 1 Axes>"
            ],
            "image/png": "[encoded data removed]"
          },
          "metadata": {
            "needs_background": "light"
          }
        }
      ]
    },
    {
      "cell_type": "markdown",
      "source": [
        "**4.3.2 Задание**\n",
        "\n",
        "**Задача:**\n",
        "\n",
        "Дана функция (sqrt(1 + e^(sqrt(x)) + cosx^2))/(|1 - (sinx)^3|) + ln|2x|;\n",
        "\n",
        "Создать массив из 10 значений \n",
        "функции (𝑥, например, изменяется от 1 до 10). Выделить срез первой \n",
        "половины массива и построить графики для основного массива –\n",
        "линейный и для среза – точечный"
      ],
      "metadata": {
        "id": "XDcj-q5MQscT"
      }
    },
    {
      "cell_type": "code",
      "source": [
        "from matplotlib import pyplot as plt\n",
        "import numpy as np\n",
        "from scipy.integrate import simps\n",
        "from numpy import trapz\n",
        "import random\n",
        "\n",
        "n, m = 1, 10\n",
        "x = np.abs([random. randint(1, 10) for _ in range(m) for _ in range(n)])\n",
        "print (\"x\", x)\n",
        "y = np.abs(((np.sqrt(1+np.exp(np.sqrt(x))+np.cos(x**2)))/(np.fabs(1-(np.sin(x))**3)))+np.log(np.fabs(2*x)))\n",
        "print (\"y\", y)\n",
        "x2 = x[0: 5: 1]\n",
        "print (\"x2\", x2)\n",
        "y2 = np.abs(((np.sqrt(1+np.exp(np.sqrt(x2))+np.cos(x2**2)))/(np.fabs(1-(np.sin(x2))**3)))+np.log(np.fabs(2*x2)))\n",
        "print (\"y2\", y2)\n",
        "plt.grid()\n",
        "plt.plot(x, y)\n",
        "plt.show()\n",
        "plt.grid()\n",
        "plt.scatter (x2, y2)"
      ],
      "metadata": {
        "id": "b1fHwcYLRzgl",
        "colab": {
          "base_uri": "https://localhost:8080/",
          "height": 622
        },
        "outputId": "902c3751-3208-457b-e28e-15fe51b053f0"
      },
      "execution_count": null,
      "outputs": [
        {
          "output_type": "stream",
          "name": "stdout",
          "text": [
            "x [ 1  8  2  2  5 10  2  8  7  4]\n",
            "y [  5.7989175  138.24401825   9.89559083   9.89559083   4.09272906\n",
            "   7.34405023   9.89559083 138.24401825   8.1157002    3.98117678]\n",
            "x2 [1 8 2 2 5]\n",
            "y2 [  5.7989175  138.24401825   9.89559083   9.89559083   4.09272906]\n"
          ]
        },
        {
          "output_type": "display_data",
          "data": {
            "text/plain": [
              "<Figure size 432x288 with 1 Axes>"
            ],
            "image/png": "[encoded data removed]"
          },
          "metadata": {
            "needs_background": "light"
          }
        },
        {
          "output_type": "execute_result",
          "data": {
            "text/plain": [
              "<matplotlib.collections.PathCollection at 0x7f153fd14e50>"
            ]
          },
          "metadata": {},
          "execution_count": 47
        },
        {
          "output_type": "display_data",
          "data": {
            "text/plain": [
              "<Figure size 432x288 with 1 Axes>"
            ],
            "image/png": "[encoded data removed]"
          },
          "metadata": {
            "needs_background": "light"
          }
        }
      ]
    },
    {
      "cell_type": "markdown",
      "source": [
        "**4.3.3 Задание**\n",
        "\n",
        "**Задача:**\n",
        "\n",
        "Дана функция |cos(𝑥𝑒\n",
        "(cos(𝑥)+ln(𝑥+1))\n",
        ")| Построить график на \n",
        "интервале (0,10) с шагом 1 с заливкой площади и найти эту площадь \n",
        "под ним. Для вычисления площади воспользуйте функции trapz(), \n",
        "вычисляющей интеграл по правилу трапеции.\n",
        "\n",
        "Для ее корректной работы необходимо подключить следующие \n",
        "библиотеки:\n",
        "\n",
        "from scipy.integrate import simps\n",
        "\n",
        "from numpy import trapz"
      ],
      "metadata": {
        "id": "WvqiSRs_R7FM"
      }
    },
    {
      "cell_type": "code",
      "source": [
        "import numpy as np\n",
        "import matplotlib.pyplot as plt\n",
        "from scipy.integrate import simps\n",
        "from numpy import trapz\n",
        "\n",
        "x = np.arange(1, 10, 1)\n",
        "y = np.abs(np.abs(np.cos(x*np.exp(np.cos(x)+np.log(x+1)))))\n",
        "plt.grid()\n",
        "plt.plot(x, y, c = \"r\" )\n",
        "plt.fill_between(x, y)\n",
        "area = trapz(y)\n",
        "print(area)"
      ],
      "metadata": {
        "id": "c9gP2xGTSkzZ",
        "colab": {
          "base_uri": "https://localhost:8080/",
          "height": 284
        },
        "outputId": "08cc3a0f-9fbf-4494-fa13-0ac0d174f7a2"
      },
      "execution_count": null,
      "outputs": [
        {
          "output_type": "stream",
          "name": "stdout",
          "text": [
            "5.281433013197276\n"
          ]
        },
        {
          "output_type": "display_data",
          "data": {
            "text/plain": [
              "<Figure size 432x288 with 1 Axes>"
            ],
            "image/png": "[encoded data removed]"
          },
          "metadata": {
            "needs_background": "light"
          }
        }
      ]
    },
    {
      "cell_type": "markdown",
      "source": [
        "**4.3.4 Задание**\n",
        "\n",
        "**Задача:**\n",
        "\n",
        "Откройте статистические данные по стоимости акций Apple, \n",
        "Microsoft, Google за 12 месяцев 2021 г. Постройте 3 графика на \n",
        "плоскости и оцените их динамику. Подумайте, как можно улучшить \n",
        "читаемость результатов.\n",
        "\n",
        "Для начальных данных допустимо использовать следующий ресурс: \n",
        "https://finance.yahoo.com"
      ],
      "metadata": {
        "id": "IlUZDtI3SlZ3"
      }
    },
    {
      "cell_type": "code",
      "source": [
        "from matplotlib import pyplot as plt\n",
        "import numpy as np\n",
        "\n",
        "APPLE = [129.41, 131.96, 121.79, 123, 132.54, 124.28, 137.27, 145.52, 152.51, 142.65, 148.96, 164.77]\n",
        "Microsoft = [217.69, 239.65, 236.94, 242.35, 251.86, 247.4, 271.6, 284.82, 301.14, 289.1, 329.37, 330.08]\n",
        "Google = [86.41, 95.07, 104.08, 106.89, 119.76, 121.49, 126.37, 135.99, 145.84, 136.46, 143.77, 141.62] \n",
        "mes = [1, 2, 3, 4, 5, 6, 7, 8, 9, 10, 11, 12]\n",
        "plt.plot(mes, APPLE, c = \"g\" )\n",
        "plt.plot(mes, Microsoft, c = \"r\" )\n",
        "plt.plot(mes, Google, c = \"b\" )\n",
        "plt.grid()\n",
        "print(\"Красная линия - динамика акций компании Microsoft\")\n",
        "print(\"Зелёная линия - динамика акций компании APPLE\")\n",
        "print(\"Голубая линия - динамика акций компании Google\")"
      ],
      "metadata": {
        "id": "xB1RYMTASzqa",
        "colab": {
          "base_uri": "https://localhost:8080/",
          "height": 320
        },
        "outputId": "f43d3e04-0cb3-4b29-8efa-f11eb4f3de0a"
      },
      "execution_count": null,
      "outputs": [
        {
          "output_type": "stream",
          "name": "stdout",
          "text": [
            "Красная линия - динамика акций компании Microsoft\n",
            "Зелёная линия - динамика акций компании APPLE\n",
            "Голубая линия - динамика акций компании Google\n"
          ]
        },
        {
          "output_type": "display_data",
          "data": {
            "text/plain": [
              "<Figure size 432x288 with 1 Axes>"
            ],
            "image/png": "[encoded data removed]"
          },
          "metadata": {
            "needs_background": "light"
          }
        }
      ]
    },
    {
      "cell_type": "markdown",
      "source": [
        "**4.3.5 Задание**\n",
        "\n",
        "**Задача:**\n",
        "\n",
        "Создайте простейший калькулятор, включающий основные действия \n",
        "для двух переменных ′ + ′, ′ − ′, ′ ∙ ′, ′ ÷ ′, а также вычисление \n",
        "следующих функций: 𝑒^(𝑥+𝑦), sin(𝑥 + 𝑦), cos(𝑥 + 𝑦), 𝑥^𝑦."
      ],
      "metadata": {
        "id": "qxtYwOgqS0CN"
      }
    },
    {
      "cell_type": "code",
      "source": [
        "import numpy as np\n",
        "for i in range (10000):\n",
        "  s = input(\" Знак (+, -, *, /, ^, sin, cos, e): \" )\n",
        "  if s not in ('+', '-', '*', '/', '^', 'sin', 'cos', 'e'):\n",
        "    continue\n",
        "  else:\n",
        "    break\n",
        "x = float(input('x = '))\n",
        "y = float(input('y = '))\n",
        "if s == '+':\n",
        "  print(x + y)\n",
        "elif s == '-':\n",
        "  print(x - y)\n",
        "elif s == '*':\n",
        "  print(x * y)\n",
        "elif s == '/':\n",
        "  if y != 0:\n",
        "    print(x / y)\n",
        "  else:\n",
        "    print(\"Делить на ноль нельзя!\")\n",
        "elif s == 'e':\n",
        "    print(np. exp(x+y))\n",
        "elif s == '^':\n",
        "    print(x**y)\n",
        "elif s == 'sin':\n",
        "    print(np. sin(x+y))\n",
        "elif s == 'cos':\n",
        "    print(np. cos(x+y))"
      ],
      "metadata": {
        "id": "0AJgf4hlTJBX",
        "colab": {
          "base_uri": "https://localhost:8080/"
        },
        "outputId": "f3ae70e3-3c95-4c4e-a0b1-dcc310d07a13"
      },
      "execution_count": null,
      "outputs": [
        {
          "output_type": "stream",
          "name": "stdout",
          "text": [
            " Знак (+, -, *, /, ^, sin, cos, e): /\n",
            "x = 1\n",
            "y = 0\n",
            "Делить на ноль нельзя!\n"
          ]
        }
      ]
    }
  ],
  "metadata": {
    "colab": {
      "provenance": []
    },
    "kernelspec": {
      "display_name": "Python 3",
      "name": "python3"
    }
  },
  "nbformat": 4,
  "nbformat_minor": 0
}